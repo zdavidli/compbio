{
 "cells": [
  {
   "cell_type": "code",
   "execution_count": 20,
   "metadata": {
    "collapsed": true
   },
   "outputs": [],
   "source": [
    "from matplotlib import pyplot as plt\n",
    "from __future__ import division\n",
    "import numpy as np"
   ]
  },
  {
   "cell_type": "code",
   "execution_count": 21,
   "metadata": {
    "collapsed": true
   },
   "outputs": [],
   "source": [
    "%matplotlib inline"
   ]
  },
  {
   "cell_type": "code",
   "execution_count": 63,
   "metadata": {
    "collapsed": false
   },
   "outputs": [
    {
     "name": "stdout",
     "output_type": "stream",
     "text": [
      "22.7960526316\n"
     ]
    },
    {
     "data": {
      "image/png": "[encoded data removed]",
      "text/plain": [
       "<matplotlib.figure.Figure at 0x7f61746ccf90>"
      ]
     },
     "metadata": {},
     "output_type": "display_data"
    }
   ],
   "source": [
    "\"\"\"\n",
    "Hydrogen bonds involving last frame are intentionally omitted \n",
    "since their duration cannot be calculated\n",
    "\"\"\"\n",
    "\n",
    "prev = hbond = count = 0 #prev tracks if hbond in previous frame, hbond is bond status, count is bond duration\n",
    "sizes = [] #list of bond durations\n",
    "with open(\"../D102A/hbonds_his_ser.dat\") as f:\n",
    "    for line in f:\n",
    "        line = line.split() #splits line by whitespace\n",
    "        hbond = int(line[1])\n",
    "        if hbond == 1:\n",
    "            count += 1\n",
    "            prev = 1\n",
    "        elif hbond == 0 and prev == 1: \n",
    "            #if the hbond terminates\n",
    "            sizes.append(count)\n",
    "            count = prev = 0\n",
    "        else:\n",
    "            #hbond == 0 and prev == 0, nothing happens\n",
    "            continue\n",
    "            \n",
    "sizes = [x*10 for x in sizes]\n",
    "weights = np.ones_like(sizes)/float(len(sizes)) #weighting for relative frequency\n",
    "print(sum(sizes)/len(sizes)) #prints average lifetime\n",
    "\n",
    "plt.hist(sizes, color='g', weights=weights, bins=range(10, max(sizes)+20, 10)) #generates rel. freq. histogram\n",
    "plt.title(\"D102A Relative Frequency of Hydrogen Bond Times\")\n",
    "plt.xlabel(\"Time (ps)\")\n",
    "plt.ylabel(\"Probability\")\n",
    "plt.xlim((0, 250))\n",
    "plt.savefig('../figures/d102a_hbond_times.png')"
   ]
  },
  {
   "cell_type": "code",
   "execution_count": 64,
   "metadata": {
    "collapsed": false
   },
   "outputs": [
    {
     "name": "stdout",
     "output_type": "stream",
     "text": [
      "65.035971223\n"
     ]
    },
    {
     "data": {
      "image/png": "[encoded data removed]",
      "text/plain": [
       "<matplotlib.figure.Figure at 0x7f61744af990>"
      ]
     },
     "metadata": {},
     "output_type": "display_data"
    }
   ],
   "source": [
    "\"\"\"\n",
    "Hydrogen bonds involving last frame are intentionally omitted \n",
    "since their duration cannot be calculated\n",
    "\"\"\"\n",
    "\n",
    "prev = hbond = count = 0 #prev tracks if hbond in previous frame, hbond is bond status, count is bond duration\n",
    "sizes = [] #list of bond durations\n",
    "with open(\"../WT/hbonds_his_ser.dat\") as f:\n",
    "    for line in f:\n",
    "        line = line.split() #splits line by whitespace\n",
    "        hbond = int(line[1])\n",
    "        if hbond == 1:\n",
    "            count += 1\n",
    "            prev = 1\n",
    "        elif hbond == 0 and prev == 1: \n",
    "            #if the hbond terminates\n",
    "            sizes.append(count)\n",
    "            count = prev = 0\n",
    "\n",
    "sizes = [x*10 for x in sizes]\n",
    "weights = np.ones_like(sizes)/float(len(sizes)) #weighting for relative frequency\n",
    "print(sum(sizes)/len(sizes)) #prints average lifetime\n",
    "\n",
    "plt.hist(sizes, color='b', weights=weights, bins=range(10, max(sizes)+20, 10)) #generates rel. freq. histogram\n",
    "plt.title(\"WT Relative Frequency of Hydrogen Bond Times\")\n",
    "plt.xlabel(\"Time (ps)\")\n",
    "plt.ylabel(\"Probability\")\n",
    "plt.xlim((0, 250))\n",
    "plt.savefig('../figures/wt_hbond_times.png')"
   ]
  },
  {
   "cell_type": "code",
   "execution_count": null,
   "metadata": {
    "collapsed": false
   },
   "outputs": [],
   "source": [
    "\n"
   ]
  },
  {
   "cell_type": "code",
   "execution_count": null,
   "metadata": {
    "collapsed": true
   },
   "outputs": [],
   "source": []
  }
 ],
 "metadata": {
  "kernelspec": {
   "display_name": "Python 2",
   "language": "python",
   "name": "python2"
  },
  "language_info": {
   "codemirror_mode": {
    "name": "ipython",
    "version": 2
   },
   "file_extension": ".py",
   "mimetype": "text/x-python",
   "name": "python",
   "nbconvert_exporter": "python",
   "pygments_lexer": "ipython2",
   "version": "2.7.13"
  }
 },
 "nbformat": 4,
 "nbformat_minor": 2
}
