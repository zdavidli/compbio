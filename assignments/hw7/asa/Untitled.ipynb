{
 "cells": [
  {
   "cell_type": "code",
   "execution_count": 1,
   "metadata": {
    "collapsed": false
   },
   "outputs": [],
   "source": [
    "import numpy as np\n",
    "\n",
    "A = list()\n",
    "A_asa = list()\n",
    "B = list()\n",
    "B_asa = list()\n",
    "\n",
    "with open('A.pdb') as f:\n",
    "    for line in f:\n",
    "        A.append(line.split())\n",
    "\n",
    "A = np.array(A)\n",
    "\n",
    "with open('A_asa.pdb') as f:\n",
    "    for line in f:\n",
    "        A_asa.append(line.split())\n",
    "        \n",
    "A_asa = np.array(A_asa)\n",
    "\n",
    "with open('B.pdb') as f:\n",
    "    for line in f:\n",
    "        B.append(line.split())\n",
    "\n",
    "B = np.array(B)\n",
    "\n",
    "with open('B_asa.pdb') as f:\n",
    "    for line in f:\n",
    "        B_asa.append(line.split())\n",
    "        \n",
    "B_asa = np.array(B_asa)"
   ]
  },
  {
   "cell_type": "code",
   "execution_count": 2,
   "metadata": {
    "collapsed": false
   },
   "outputs": [],
   "source": [
    "folded_phe30 = list()\n",
    "for line in A_asa:\n",
    "    if line[3] == 'PHE' and line[4] == '30':\n",
    "        folded_phe30.append(line)\n",
    "        \n",
    "folded_phe30 = np.array(folded_phe30)"
   ]
  },
  {
   "cell_type": "code",
   "execution_count": 3,
   "metadata": {
    "collapsed": false
   },
   "outputs": [
    {
     "name": "stdout",
     "output_type": "stream",
     "text": [
      "[['ATOM' '216' 'N' 'PHE' '30' '4.545' '12.325' '21.972' '0.00' '0.00']\n",
      " ['ATOM' '217' 'CA' 'PHE' '30' '4.843' '12.494' '20.533' '0.00' '0.00']\n",
      " ['ATOM' '218' 'C' 'PHE' '30' '4.080' '11.466' '19.686' '0.00' '0.00']\n",
      " ['ATOM' '219' 'O' 'PHE' '30' '3.477' '11.802' '18.675' '0.00' '0.00']\n",
      " ['ATOM' '220' 'CB' 'PHE' '30' '6.350' '12.498' '20.265' '0.00' '0.38']\n",
      " ['ATOM' '221' 'CG' 'PHE' '30' '7.043' '13.804' '20.666' '0.00' '0.00']\n",
      " ['ATOM' '222' 'CD1' 'PHE' '30' '6.396' '15.038' '20.577' '0.00' '2.97']\n",
      " ['ATOM' '223' 'CD2' 'PHE' '30' '8.380' '13.821' '21.061' '0.00' '0.00']\n",
      " ['ATOM' '224' 'CE1' 'PHE' '30' '7.108' '16.238' '20.873' '0.00' '4.18']\n",
      " ['ATOM' '225' 'CE2' 'PHE' '30' '9.031' '15.017' '21.334' '0.00' '0.00']\n",
      " ['ATOM' '226' 'CZ' 'PHE' '30' '8.419' '16.197' '21.243' '0.00' '0.00']]\n"
     ]
    }
   ],
   "source": [
    "print(folded_phe30)"
   ]
  },
  {
   "cell_type": "code",
   "execution_count": 4,
   "metadata": {
    "collapsed": true
   },
   "outputs": [],
   "source": [
    "unfolded_phe30 = list()\n",
    "for line in B_asa:\n",
    "    if line[3] == 'PHE' and line[4] == '30':\n",
    "        unfolded_phe30.append(line)\n",
    "        \n",
    "unfolded_phe30 = np.array(unfolded_phe30)"
   ]
  },
  {
   "cell_type": "code",
   "execution_count": 5,
   "metadata": {
    "collapsed": false
   },
   "outputs": [
    {
     "name": "stdout",
     "output_type": "stream",
     "text": [
      "[['ATOM' '216' 'N' 'PHE' '30' '70.151' '48.344' '-30.321' '4.00' '0.40']\n",
      " ['ATOM' '217' 'CA' 'PHE' '30' '70.652' '48.981' '-31.533' '0.00' '3.30']\n",
      " ['ATOM' '218' 'C' 'PHE' '30' '72.174' '48.915' '-31.603' '0.00' '0.22']\n",
      " ['ATOM' '219' 'O' 'PHE' '30' '72.853' '48.924' '-30.576' '2.00' '14.25']\n",
      " ['ATOM' '220' 'CB' 'PHE' '30' '70.197' '50.440' '-31.599' '0.00' '22.89']\n",
      " ['ATOM' '221' 'CG' 'PHE' '30' '68.684' '50.680' '-31.730' '0.00' '1.76']\n",
      " ['ATOM' '222' 'CD1' 'PHE' '30' '68.088' '50.661' '-32.996' '0.00' '24.99']\n",
      " ['ATOM' '223' 'CD2' 'PHE' '30' '67.898' '50.917' '-30.600' '0.00' '19.49']\n",
      " ['ATOM' '224' 'CE1' 'PHE' '30' '66.721' '50.876' '-33.130' '0.00' '31.93']\n",
      " ['ATOM' '225' 'CE2' 'PHE' '30' '66.529' '51.133' '-30.735' '0.00' '29.17']\n",
      " ['ATOM' '226' 'CZ' 'PHE' '30' '65.940' '51.112' '-31.997' '0.00' '31.59']]\n"
     ]
    }
   ],
   "source": [
    "print(unfolded_phe30)"
   ]
  },
  {
   "cell_type": "code",
   "execution_count": 6,
   "metadata": {
    "collapsed": false
   },
   "outputs": [],
   "source": [
    "phe30result = list()\n",
    "for fline, uline in zip(folded_phe30, unfolded_phe30):\n",
    "    temp = []\n",
    "    temp.extend(fline[1:4])\n",
    "    temp.append(float(fline[-1]))\n",
    "    temp.append(float(uline[-1]))\n",
    "    temp.append(np.abs(temp[-1] - temp[-2]))\n",
    "    phe30result.append(temp)"
   ]
  },
  {
   "cell_type": "code",
   "execution_count": 18,
   "metadata": {
    "collapsed": false
   },
   "outputs": [
    {
     "name": "stdout",
     "output_type": "stream",
     "text": [
      "Atom#\tAtomName\tResidueName\tFoldedASA\tUnfoldedASA\tASADifference\n",
      "216\tN\tPHE\t0.0\t0.4\t0.4\n",
      "217\tCA\tPHE\t0.0\t3.3\t3.3\n",
      "218\tC\tPHE\t0.0\t0.22\t0.22\n",
      "219\tO\tPHE\t0.0\t14.25\t14.25\n",
      "220\tCB\tPHE\t0.38\t22.89\t22.51\n",
      "221\tCG\tPHE\t0.0\t1.76\t1.76\n",
      "222\tCD1\tPHE\t2.97\t24.99\t22.02\n",
      "223\tCD2\tPHE\t0.0\t19.49\t19.49\n",
      "224\tCE1\tPHE\t4.18\t31.93\t27.75\n",
      "225\tCE2\tPHE\t0.0\t29.17\t29.17\n",
      "226\tCZ\tPHE\t0.0\t31.59\t31.59\n"
     ]
    }
   ],
   "source": [
    "print(\"Atom#\\tAtomName\\tResidueName\\tFoldedASA\\tUnfoldedASA\\tASADifference\")\n",
    "for line in phe30result:\n",
    "    temp = line\n",
    "    for i in range(len(line)):\n",
    "        temp[i] = str(temp[i])\n",
    "    print(\"\\t\".join(temp))"
   ]
  },
  {
   "cell_type": "code",
   "execution_count": 21,
   "metadata": {
    "collapsed": true
   },
   "outputs": [],
   "source": [
    "folded_c = list()\n",
    "\n",
    "for line in A_asa:\n",
    "    if line[2][0] == 'C':\n",
    "        folded_c.append(line)\n",
    "\n",
    "unfolded_c = list()\n",
    "\n",
    "for line in B_asa:\n",
    "    if line[2][0] == 'C':\n",
    "        unfolded_c.append(line)\n",
    "\n",
    "folded_c = np.array(folded_c)\n",
    "unfolded_c = np.array(unfolded_c)"
   ]
  },
  {
   "cell_type": "code",
   "execution_count": 22,
   "metadata": {
    "collapsed": false
   },
   "outputs": [
    {
     "name": "stdout",
     "output_type": "stream",
     "text": [
      "[['ATOM' '2' 'CA' ..., '29.843' '0.00' '10.13']\n",
      " ['ATOM' '3' 'C' ..., '28.517' '0.00' '0.00']\n",
      " ['ATOM' '5' 'CB' ..., '29.882' '0.00' '3.27']\n",
      " ..., \n",
      " ['ATOM' '431' 'CB' ..., '6.307' '0.00' '4.15']\n",
      " ['ATOM' '432' 'CG' ..., '7.512' '0.00' '0.63']\n",
      " ['ATOM' '433' 'CD' ..., '7.201' '0.00' '0.33']]\n"
     ]
    }
   ],
   "source": [
    "print(folded_c)"
   ]
  },
  {
   "cell_type": "code",
   "execution_count": 23,
   "metadata": {
    "collapsed": false
   },
   "outputs": [
    {
     "name": "stdout",
     "output_type": "stream",
     "text": [
      "[['ATOM' '2' 'CA' ..., '0.000' '0.00' '4.95']\n",
      " ['ATOM' '3' 'C' ..., '0.000' '0.00' '2.97']\n",
      " ['ATOM' '5' 'CB' ..., '-1.215' '0.00' '18.24']\n",
      " ..., \n",
      " ['ATOM' '431' 'CB' ..., '-56.256' '0.00' '23.90']\n",
      " ['ATOM' '432' 'CG' ..., '-54.880' '0.00' '28.18']\n",
      " ['ATOM' '433' 'CD' ..., '-54.025' '0.00' '6.61']]\n"
     ]
    }
   ],
   "source": [
    "print(unfolded_c)"
   ]
  },
  {
   "cell_type": "code",
   "execution_count": 29,
   "metadata": {
    "collapsed": false
   },
   "outputs": [
    {
     "data": {
      "text/plain": [
       "1981.8"
      ]
     },
     "execution_count": 29,
     "metadata": {},
     "output_type": "execute_result"
    }
   ],
   "source": [
    "folded_c[:, -1].astype(float).sum()"
   ]
  },
  {
   "cell_type": "code",
   "execution_count": 30,
   "metadata": {
    "collapsed": false
   },
   "outputs": [
    {
     "data": {
      "text/plain": [
       "4814.8800000000001"
      ]
     },
     "execution_count": 30,
     "metadata": {},
     "output_type": "execute_result"
    }
   ],
   "source": [
    "unfolded_c[:, -1].astype(float).sum()"
   ]
  },
  {
   "cell_type": "code",
   "execution_count": null,
   "metadata": {
    "collapsed": true
   },
   "outputs": [],
   "source": []
  }
 ],
 "metadata": {
  "kernelspec": {
   "display_name": "Python 2",
   "language": "python",
   "name": "python2"
  },
  "language_info": {
   "codemirror_mode": {
    "name": "ipython",
    "version": 2
   },
   "file_extension": ".py",
   "mimetype": "text/x-python",
   "name": "python",
   "nbconvert_exporter": "python",
   "pygments_lexer": "ipython2",
   "version": "2.7.13"
  }
 },
 "nbformat": 4,
 "nbformat_minor": 2
}
