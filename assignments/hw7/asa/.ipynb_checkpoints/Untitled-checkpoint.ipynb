{
 "cells": [
  {
   "cell_type": "code",
   "execution_count": 49,
   "metadata": {
    "collapsed": false
   },
   "outputs": [],
   "source": [
    "import numpy as np\n",
    "np.set_printoptions(precision=3)\n",
    "\n",
    "A = list()\n",
    "A_asa = list()\n",
    "B = list()\n",
    "B_asa = list()\n",
    "\n",
    "with open('A.pdb') as f:\n",
    "    for line in f:\n",
    "        A.append(line.split())\n",
    "\n",
    "A = np.array(A)\n",
    "\n",
    "with open('A_asa.pdb') as f:\n",
    "    for line in f:\n",
    "        A_asa.append(line.split())\n",
    "        \n",
    "A_asa = np.array(A_asa)\n",
    "\n",
    "with open('B.pdb') as f:\n",
    "    for line in f:\n",
    "        B.append(line.split())\n",
    "\n",
    "B = np.array(B)\n",
    "\n",
    "with open('B_asa.pdb') as f:\n",
    "    for line in f:\n",
    "        B_asa.append(line.split())\n",
    "        \n",
    "B_asa = np.array(B_asa)"
   ]
  },
  {
   "cell_type": "code",
   "execution_count": 50,
   "metadata": {
    "collapsed": false
   },
   "outputs": [],
   "source": [
    "folded_phe30 = list()\n",
    "for line in A_asa:\n",
    "    if line[3] == 'PHE' and line[4] == '30':\n",
    "        folded_phe30.append(line)\n",
    "        \n",
    "folded_phe30 = np.array(folded_phe30)"
   ]
  },
  {
   "cell_type": "code",
   "execution_count": 51,
   "metadata": {
    "collapsed": false
   },
   "outputs": [
    {
     "name": "stdout",
     "output_type": "stream",
     "text": [
      "[['ATOM' '216' 'N' 'PHE' '30' '4.545' '12.325' '21.972' '0.00' '0.00']\n",
      " ['ATOM' '217' 'CA' 'PHE' '30' '4.843' '12.494' '20.533' '0.00' '0.00']\n",
      " ['ATOM' '218' 'C' 'PHE' '30' '4.080' '11.466' '19.686' '0.00' '0.00']\n",
      " ['ATOM' '219' 'O' 'PHE' '30' '3.477' '11.802' '18.675' '0.00' '0.00']\n",
      " ['ATOM' '220' 'CB' 'PHE' '30' '6.350' '12.498' '20.265' '0.00' '0.38']\n",
      " ['ATOM' '221' 'CG' 'PHE' '30' '7.043' '13.804' '20.666' '0.00' '0.00']\n",
      " ['ATOM' '222' 'CD1' 'PHE' '30' '6.396' '15.038' '20.577' '0.00' '2.97']\n",
      " ['ATOM' '223' 'CD2' 'PHE' '30' '8.380' '13.821' '21.061' '0.00' '0.00']\n",
      " ['ATOM' '224' 'CE1' 'PHE' '30' '7.108' '16.238' '20.873' '0.00' '4.18']\n",
      " ['ATOM' '225' 'CE2' 'PHE' '30' '9.031' '15.017' '21.334' '0.00' '0.00']\n",
      " ['ATOM' '226' 'CZ' 'PHE' '30' '8.419' '16.197' '21.243' '0.00' '0.00']]\n"
     ]
    }
   ],
   "source": [
    "print(folded_phe30)"
   ]
  },
  {
   "cell_type": "code",
   "execution_count": 52,
   "metadata": {
    "collapsed": true
   },
   "outputs": [],
   "source": [
    "unfolded_phe30 = list()\n",
    "for line in B_asa:\n",
    "    if line[3] == 'PHE' and line[4] == '30':\n",
    "        unfolded_phe30.append(line)\n",
    "        \n",
    "unfolded_phe30 = np.array(unfolded_phe30)"
   ]
  },
  {
   "cell_type": "code",
   "execution_count": 53,
   "metadata": {
    "collapsed": false
   },
   "outputs": [
    {
     "name": "stdout",
     "output_type": "stream",
     "text": [
      "[['ATOM' '216' 'N' 'PHE' '30' '70.151' '48.344' '-30.321' '4.00' '0.40']\n",
      " ['ATOM' '217' 'CA' 'PHE' '30' '70.652' '48.981' '-31.533' '0.00' '3.30']\n",
      " ['ATOM' '218' 'C' 'PHE' '30' '72.174' '48.915' '-31.603' '0.00' '0.22']\n",
      " ['ATOM' '219' 'O' 'PHE' '30' '72.853' '48.924' '-30.576' '2.00' '14.25']\n",
      " ['ATOM' '220' 'CB' 'PHE' '30' '70.197' '50.440' '-31.599' '0.00' '22.89']\n",
      " ['ATOM' '221' 'CG' 'PHE' '30' '68.684' '50.680' '-31.730' '0.00' '1.76']\n",
      " ['ATOM' '222' 'CD1' 'PHE' '30' '68.088' '50.661' '-32.996' '0.00' '24.99']\n",
      " ['ATOM' '223' 'CD2' 'PHE' '30' '67.898' '50.917' '-30.600' '0.00' '19.49']\n",
      " ['ATOM' '224' 'CE1' 'PHE' '30' '66.721' '50.876' '-33.130' '0.00' '31.93']\n",
      " ['ATOM' '225' 'CE2' 'PHE' '30' '66.529' '51.133' '-30.735' '0.00' '29.17']\n",
      " ['ATOM' '226' 'CZ' 'PHE' '30' '65.940' '51.112' '-31.997' '0.00' '31.59']]\n"
     ]
    }
   ],
   "source": [
    "print(unfolded_phe30)"
   ]
  },
  {
   "cell_type": "code",
   "execution_count": 54,
   "metadata": {
    "collapsed": false
   },
   "outputs": [],
   "source": [
    "phe30result = list()\n",
    "for fline, uline in zip(folded_phe30, unfolded_phe30):\n",
    "    temp = []\n",
    "    temp.extend(fline[1:4])\n",
    "    temp.append(fline[-1])\n",
    "    temp.append(uline[-1])\n",
    "    temp.append(np.abs(float(fline[-1]) - float(uline[-1])))\n",
    "    phe30result.append(temp)"
   ]
  },
  {
   "cell_type": "code",
   "execution_count": 56,
   "metadata": {
    "collapsed": false
   },
   "outputs": [
    {
     "name": "stdout",
     "output_type": "stream",
     "text": [
      "[['216', 'N', 'PHE', '0.00', '0.40', 0.40000000000000002], ['217', 'CA', 'PHE', '0.00', '3.30', 3.2999999999999998], ['218', 'C', 'PHE', '0.00', '0.22', 0.22], ['219', 'O', 'PHE', '0.00', '14.25', 14.25], ['220', 'CB', 'PHE', '0.38', '22.89', 22.510000000000002], ['221', 'CG', 'PHE', '0.00', '1.76', 1.76], ['222', 'CD1', 'PHE', '2.97', '24.99', 22.02], ['223', 'CD2', 'PHE', '0.00', '19.49', 19.489999999999998], ['224', 'CE1', 'PHE', '4.18', '31.93', 27.75], ['225', 'CE2', 'PHE', '0.00', '29.17', 29.170000000000002], ['226', 'CZ', 'PHE', '0.00', '31.59', 31.59]]\n"
     ]
    }
   ],
   "source": [
    "print(phe30result)"
   ]
  },
  {
   "cell_type": "code",
   "execution_count": null,
   "metadata": {
    "collapsed": true
   },
   "outputs": [],
   "source": []
  }
 ],
 "metadata": {
  "kernelspec": {
   "display_name": "Python 2",
   "language": "python",
   "name": "python2"
  },
  "language_info": {
   "codemirror_mode": {
    "name": "ipython",
    "version": 2
   },
   "file_extension": ".py",
   "mimetype": "text/x-python",
   "name": "python",
   "nbconvert_exporter": "python",
   "pygments_lexer": "ipython2",
   "version": "2.7.13"
  }
 },
 "nbformat": 4,
 "nbformat_minor": 2
}
